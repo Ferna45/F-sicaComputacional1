{
  "nbformat": 4,
  "nbformat_minor": 0,
  "metadata": {
    "colab": {
      "name": "Actividad_2.ipynb",
      "provenance": []
    },
    "kernelspec": {
      "name": "python3",
      "display_name": "Python 3"
    }
  },
  "cells": [
    {
      "cell_type": "markdown",
      "metadata": {
        "id": "EY7k25ZKPWdB"
      },
      "source": [
        "## Primera actividad en programación Python\r\n",
        "Ejercicio 1.- Es acerca del área de un rectángulo, será un programa interactivo donde el usuario proporcionará los datos de largo y altura. "
      ]
    },
    {
      "cell_type": "code",
      "metadata": {
        "id": "cNnFv6Z-S72Y"
      },
      "source": [
        "#El uso de la biblioteca, para poder usar el número pi\r\n",
        "import numpy as np "
      ],
      "execution_count": null,
      "outputs": []
    },
    {
      "cell_type": "code",
      "metadata": {
        "colab": {
          "base_uri": "https://localhost:8080/"
        },
        "id": "RP587o3BQY21",
        "outputId": "66e4bbc8-8c99-47ce-ce43-4337ceb319fc"
      },
      "source": [
        "# Se utiliza el símbolo # para hacer comentarios.\r\n",
        "# Se define una función de 2 variables para calcular el área.  \r\n",
        "def area(x, y):\r\n",
        "    return x*y\r\n",
        "\r\n",
        "print(\"Proporciona el largo y altura del rectángulo: \", end=\"\")\r\n",
        "l = float(input())\r\n",
        "w = float(input())\r\n",
        "a = area(l, w)\r\n",
        "# Imprime el valor del área en formato libre.\r\n",
        "#print(\"\\nArea = \", a)\r\n",
        "# Imprime el valor del área con 2 decimales. \r\n",
        "print(\"\\nArea = {:.2f}\".format(a))"
      ],
      "execution_count": null,
      "outputs": [
        {
          "output_type": "stream",
          "text": [
            "Proporciona el largo y altura del rectángulo: 10\n",
            "60\n",
            "\n",
            "Area = 600.00\n"
          ],
          "name": "stdout"
        }
      ]
    },
    {
      "cell_type": "markdown",
      "metadata": {
        "id": "VYHNDv2CTPdc"
      },
      "source": [
        "# Área de un círculo\r\n",
        "En este programa vamos a calcular el área de un cículo con ayuda de la fórmula $$A=\\pi*r^2$$ donde igualmente que el anterior será interactivo por lo tanto el usuario proporcionará solamente el radio del círculo. Hay que recordar que r es el radio de nuestro círculo la mitad del diametro de este. "
      ]
    },
    {
      "cell_type": "code",
      "metadata": {
        "colab": {
          "base_uri": "https://localhost:8080/"
        },
        "id": "bl92hjTCWP4c",
        "outputId": "03e39a3e-60e7-4b06-fd4d-8918c82a96fd"
      },
      "source": [
        "#Se define una función de una variable que será el radio del círculo para calcular su área\r\n",
        "def area(r):\r\n",
        "    return np.pi*(r**2)\r\n",
        "\r\n",
        "#Pedir al usuario que proporcione el radio \r\n",
        "print(\"Proporciona el radio del Círculo: \", end=\"\")\r\n",
        "r = float(input())\r\n",
        "a = area(r)\r\n",
        "print(\"\\nArea = {:.2f}\".format(a))"
      ],
      "execution_count": null,
      "outputs": [
        {
          "output_type": "stream",
          "text": [
            "Proporciona el radio del Círculo: 5\n",
            "\n",
            "Area = 78.54\n"
          ],
          "name": "stdout"
        }
      ]
    },
    {
      "cell_type": "markdown",
      "metadata": {
        "id": "s59LK1zreNBx"
      },
      "source": [
        "# Área de una elipse\r\n",
        "Vamos a calcular el area de una elipse con la fórmula de $$ Área = \\pi*a*b $$ Donde **a** es el semieje mayor y **b** es el semieje menor, en el caso que los semiejes sean iguales (**r = a = b**) su fórmula es la misma que el área de un círculo."
      ]
    },
    {
      "cell_type": "code",
      "metadata": {
        "colab": {
          "base_uri": "https://localhost:8080/"
        },
        "id": "t6xHFrytgbxj",
        "outputId": "d39d949d-a703-4196-b46f-a349b1c5d08a"
      },
      "source": [
        "#Definir una función de dos variables para los dos semiejes esto para calcular el área de la elipse\r\n",
        "def area(a,b):\r\n",
        "    return np.pi*a*b\r\n",
        "\r\n",
        "#Pedir los datos de los semiejes\r\n",
        "print(\"Proporciona primero el semieje MAYOR después el semieje MENOR: \", end=\"\")\r\n",
        "a = float(input())\r\n",
        "b = float(input())\r\n",
        "a = area(a,b)\r\n",
        "#Mostrará el resultado\r\n",
        "print(\"\\nArea = {:.2f}\".format(a))"
      ],
      "execution_count": null,
      "outputs": [
        {
          "output_type": "stream",
          "text": [
            "Proporciona primero el semieje MAYOR después el semieje MENOR: 3.00\n",
            "2.00\n",
            "\n",
            "Area = 18.85\n"
          ],
          "name": "stdout"
        }
      ]
    },
    {
      "cell_type": "markdown",
      "metadata": {
        "id": "XZpj5p9ohjcp"
      },
      "source": [
        "# Volumen de una esfera\r\n",
        "Programa para dedudir el volumen de una esfera mediante la fórmula $$ V = \\frac{4}{3}*\\pi*R^3$$ donde al igual que el círculo **R** es el radio de la esfera. "
      ]
    },
    {
      "cell_type": "code",
      "metadata": {
        "colab": {
          "base_uri": "https://localhost:8080/"
        },
        "id": "cA0RuI0XjDVh",
        "outputId": "0d34634c-6bb1-48c3-c318-cc4a2795e1bf"
      },
      "source": [
        "#Establecer función de una variable para obtener el volumen con el radio de la esfera.\r\n",
        "def Volumen(R):\r\n",
        "    return np.pi*(R**3)*(4/3)\r\n",
        "\r\n",
        "#Pedir al usuario que proporcione el radio \r\n",
        "print(\"Proporciona el radio de la esfera: \", end=\"\")\r\n",
        "R = float(input())\r\n",
        "a = Volumen(R)\r\n",
        "\r\n",
        "#Presentar resultado\r\n",
        "print(\"\\nVolumen = {:.2f}\".format(a))"
      ],
      "execution_count": null,
      "outputs": [
        {
          "output_type": "stream",
          "text": [
            "Proporciona el radio de la esfera: 8.00\n",
            "\n",
            "Volumen = 2144.66\n"
          ],
          "name": "stdout"
        }
      ]
    },
    {
      "cell_type": "markdown",
      "metadata": {
        "id": "syER4SZslY0o"
      },
      "source": [
        "# Volumen de un cilíndro circular\r\n",
        "Esto deducirá el volumen de un cilíndro circular con su fórmula $$ V = \\pi * r^2 * h $$ Donde **r** es el radio del cilíndro y **h** es la altura que este vaya a tener. Está de esta forma ya que es un sólido compuesto de dos círculos planos paralelos congruentes. El volumen de un cilíndro con radio**r** es el área de la base por la altura **h**.\r\n"
      ]
    },
    {
      "cell_type": "code",
      "metadata": {
        "colab": {
          "base_uri": "https://localhost:8080/"
        },
        "id": "vIXaRSpnvWC6",
        "outputId": "e0991834-debb-44ca-9a78-11bb5b19f473"
      },
      "source": [
        "#Función de dos variables para el radio y la altura ya que así tenemos como resultado el volumen de nuestrafigura\r\n",
        "import numpy as np\r\n",
        "def Volumen(r,h):\r\n",
        "    return np.pi*(r**2)*(h)\r\n",
        "\r\n",
        "#Pedir al usuario que ingrese los datos del cilíndro\r\n",
        "print(\"Proporciona primero el RADIO del cilíndro luego la ALTURA de este mismo: \", end=\"\")\r\n",
        "r = float(input())\r\n",
        "h = float(input())\r\n",
        "a = Volumen(r,h)\r\n",
        "\r\n",
        "#Presentar resultado\r\n",
        "print(\"\\nVolumen = {:.2f}\".format(a))"
      ],
      "execution_count": null,
      "outputs": [
        {
          "output_type": "stream",
          "text": [
            "Proporciona primero el RADIO del cilíndro luego la ALTURA de este mismo: 8.00\n",
            "15.00\n",
            "\n",
            "Volumen = 3015.93\n"
          ],
          "name": "stdout"
        }
      ]
    },
    {
      "cell_type": "markdown",
      "metadata": {
        "id": "7JFLstBdxmRb"
      },
      "source": [
        "# Ejercicio 2 \r\n",
        "**Desarrollar un programa en Python que calcule las raíces de una ecuación cuadrática.**"
      ]
    },
    {
      "cell_type": "markdown",
      "metadata": {
        "id": "aXgDHyQjcwKH"
      },
      "source": [
        "Una **ecuación** **de** **segundo** **grado** o **ecuación** **cuadrática** **de** **una** **variable** es aquella que tiene como expresión general: $$ Ax^2 + Bx + C = 0    ,      A\\neq0 $$ Siendo **x**  la variable  **A** ,**B** y **C** los coeficientes constantes. \r\n",
        "\\\r\n",
        "Considerando que **A** es el coeficiente de la variable cuadrática, **B** es el coeficiente de la variable lineal y **C** es el término independiente.\r\n",
        "\r\n",
        "Para resolver las raíces de un polinomio usaremos la fórmula de *Bhaskara*: $$ x_(1,2) = \\frac{-b \\pm \\sqrt{b^2-4*a*c}}{2*a}$$ ."
      ]
    },
    {
      "cell_type": "code",
      "metadata": {
        "id": "vSPBXLZ8m3rl"
      },
      "source": [
        "#uso de la biblioteca numpy\r\n",
        "import numpy as np\r\n"
      ],
      "execution_count": null,
      "outputs": []
    },
    {
      "cell_type": "code",
      "metadata": {
        "colab": {
          "base_uri": "https://localhost:8080/"
        },
        "id": "EAVTXBNWf_Qf",
        "outputId": "524f4c9b-5f46-464c-9b03-608d751d9863"
      },
      "source": [
        "#Le pediré al usuario que ingrese los valores de los coeficientes\r\n",
        "A = float ( input( \"Ingrese el coeficiente de la variable cuadrática\\n\"))\r\n",
        "B = float ( input( \"Ingrese el coeficiente de la variable lineal\\n\"))\r\n",
        "C = float ( input( \"Ingrese el término independiente\\n\"))\r\n",
        "\r\n",
        "#Pondré la condición de if para el discriminante que cuando sea menor que cero muestre y le diga el usuario que la solución de la ecuación es con numeros complejos\r\n",
        "if ((B**2)-4*A*C) < 0 :\r\n",
        "  print(\"' Tiene raices imaginarias\")\r\n",
        "\r\n",
        "#Si no cumple con el if va a resolver las raíces de la ecuación\r\n",
        "else:\r\n",
        "  x1 = (-B+ np.sqrt (B**2-(4*A*C)))/(2*A)   #Esta es para la parte positiva\r\n",
        "  x2 = (-B- np.sqrt (B**2-(4*A*C)))/(2*A)   #Para la parte negativa\r\n",
        "  print(\"' Las raíces de la ecuación son:\")\r\n",
        "  #Mostrará los valores de x1 y x2 con 4 decimales\r\n",
        "  print(\"\\nX_1: {:.4f}\" .format(x1))\r\n",
        "  print(\"\\nX_2: {:.4f}\" .format(x2))\r\n"
      ],
      "execution_count": null,
      "outputs": [
        {
          "output_type": "stream",
          "text": [
            "Ingrese el coeficiente de la variable cuadrática\n",
            "7\n",
            "Ingrese el coeficiente de la variable lineal\n",
            "3\n",
            "Ingrese el término independiente\n",
            "-4\n",
            "' Las raíces de la ecuación son:\n",
            "\n",
            "X_1: 0.5714\n",
            "\n",
            "X_2: -1.0000\n"
          ],
          "name": "stdout"
        }
      ]
    },
    {
      "cell_type": "markdown",
      "metadata": {
        "id": "IqYG3kAbr5wF"
      },
      "source": [
        "# Ejercicio 3 \r\n",
        "Programa donde podamos calcular la raíz cuadrada de cualquier número, cuando la sucesión converja con un error menor a 0.01. \r\n"
      ]
    },
    {
      "cell_type": "markdown",
      "metadata": {
        "id": "-QQEnwJPsQgV"
      },
      "source": [
        "Usaremos el método babilónico para poder aproximar la raiz cuadrada de un numero arbitrario. Con la fórmula siguiente:  $$x_{n+1}={\\frac {1}{2}}\\left(x_{n}+{\\frac {S}{x_{n}}}\\right)$$ \r\n"
      ]
    },
    {
      "cell_type": "code",
      "metadata": {
        "id": "wyL0_P7hy5e6"
      },
      "source": [
        "#Librería\r\n",
        "import numpy as np"
      ],
      "execution_count": null,
      "outputs": []
    },
    {
      "cell_type": "code",
      "metadata": {
        "colab": {
          "base_uri": "https://localhost:8080/"
        },
        "id": "xgD09Ixo7U-Q",
        "outputId": "b82b1226-a96a-4244-c8cf-d3d6b163c094"
      },
      "source": [
        "def metodo_babilonico_raiz_cuadrada(n):\r\n",
        "  #condicional por si en dado caso ingresa un número negativo\r\n",
        "    if n < 0:\r\n",
        "        raise ValueError('El valor de n no puede ser negativo')\r\n",
        "                #El elif es para el caso cuando n sea igual a 0 que solo regrese 0 y muestre el mensaje del valor negativo\r\n",
        "    elif n == 0:\r\n",
        "        return 0\r\n",
        "                #aquí cuando n sea mayor a 0 va empezar el cálculo del cociente y el promedio\r\n",
        "    else:\r\n",
        "        x = 2.0\r\n",
        "        cociente = n / x\r\n",
        "        promedio = (x + cociente) / 2.0\r\n",
        "#Esto va a yudar con el error para que pueda calcular la raíz del número\r\n",
        "        while abs(cociente - promedio) > 0.01:\r\n",
        "            x = promedio\r\n",
        "            cociente = n / x\r\n",
        "            promedio = (x + cociente) / 2.0\r\n",
        "        \r\n",
        "        return promedio\r\n",
        "#pedirle al usuario que ingrese el número\r\n",
        "numero = float ( input( \"Ingrese el coeficiente de la variable cuadrática\\n\"))\r\n",
        "print('Raíz cuadrada con la función sqrt: {:.3f}'.format(np.sqrt(numero)))\r\n",
        "print('Raíz cuadrada con el método babilónico: {:.3f}'.format(metodo_babilonico_raiz_cuadrada(numero)))"
      ],
      "execution_count": 61,
      "outputs": [
        {
          "output_type": "stream",
          "text": [
            "Ingrese el coeficiente de la variable cuadrática\n",
            "125348\n",
            "Raíz cuadrada con la función sqrt: 354.045\n",
            "Raíz cuadrada con el método babilónico: 354.045\n"
          ],
          "name": "stdout"
        }
      ]
    },
    {
      "cell_type": "markdown",
      "metadata": {
        "id": "kzKImDEcWHlt"
      },
      "source": [
        "# Ejercicio 4\r\n",
        "Vamos a mostrar la aproximación para la serie $$ Ln(1+x)$$ Alrededor de **x=0** con ayuda de una gráfica al igual."
      ]
    },
    {
      "cell_type": "code",
      "metadata": {
        "colab": {
          "base_uri": "https://localhost:8080/",
          "height": 331
        },
        "id": "e9wBkv3RAat3",
        "outputId": "c4b27102-2d28-44e0-f3cf-dfc09bc074f3"
      },
      "source": [
        "# Cargar la subbiblioteca pytlot de Matplotlib \r\n",
        "import numpy as np\r\n",
        "import matplotlib.pyplot as plt\r\n",
        "\r\n",
        "# Gráfica de funciones\r\n",
        "# Definición de variables y funciones\r\n",
        "x = np.linspace(-1.5,1.5,100)  # arrego de 100 puntos entre -pi y pi\r\n",
        "y = np.log(1+x)      # y será también un arreglo de 100 puntos automáticamente \r\n",
        "y1 = x**1/(1)\r\n",
        "y2 = x**2/(2)\r\n",
        "y3 = x**3/(3)\r\n",
        "y4 = x**4/(4)\r\n",
        "y5 = x**5/(5)\r\n",
        "#y6 = x**6/(6)\r\n",
        "#y7 = x**7/(7)\r\n",
        "sT = y1 - y2 + y3 - y4 + y5 # Serie de Taylor de ln(1+x) a 5o. Orden.\r\n",
        "\r\n",
        "# Creación de la gráficas\r\n",
        "plt.subplot(111)\r\n",
        "plt.xlabel(\"X label\")\r\n",
        "plt.ylabel(\"Y label\")\r\n",
        "plt.title(\"Serie de Taylor para Ln(1+x) alrededor de x0\")\r\n",
        "\r\n",
        "# Graficar varias funciones\r\n",
        "plt.plot(x,y, label=\"ln(1+x)\")\r\n",
        "plt.plot(x,y1, label='x^1/1')\r\n",
        "#plt.plot(x,y4, label='x^4/4')\r\n",
        "#plt.plot(x,y7, label='x^5/5')\r\n",
        "plt.plot(x,sT, label='Serie Taylor Orden 5')\r\n",
        "\r\n",
        "# Agregar una malla\r\n",
        "plt.grid(True)\r\n",
        "\r\n",
        "# Fijar los límites en el eje Y.\r\n",
        "plt.ylim(-4, 2)\r\n",
        "\r\n",
        "# Ubicación de las etiquetas de las funciones\r\n",
        "plt.legend(bbox_to_anchor=(1,1), loc=\"upper left\")\r\n",
        "plt.show()\r\n",
        "#plt.savefig('plot.png')  # Si se desea guardar en un archivo la imagen de la gráfica"
      ],
      "execution_count": 99,
      "outputs": [
        {
          "output_type": "stream",
          "text": [
            "/usr/local/lib/python3.6/dist-packages/ipykernel_launcher.py:8: RuntimeWarning: invalid value encountered in log\n",
            "  \n"
          ],
          "name": "stderr"
        },
        {
          "output_type": "display_data",
          "data": {
            "image/png": "[encoded data removed]",
            "text/plain": [
              "<Figure size 432x288 with 1 Axes>"
            ]
          },
          "metadata": {
            "tags": [],
            "needs_background": "light"
          }
        }
      ]
    }
  ]
}