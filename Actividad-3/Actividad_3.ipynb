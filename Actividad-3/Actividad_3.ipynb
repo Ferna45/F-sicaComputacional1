{
  "nbformat": 4,
  "nbformat_minor": 0,
  "metadata": {
    "colab": {
      "name": "Actividad_3.ipynb",
      "provenance": [],
      "collapsed_sections": []
    },
    "kernelspec": {
      "name": "python3",
      "display_name": "Python 3"
    }
  },
  "cells": [
    {
      "cell_type": "markdown",
      "metadata": {
        "id": "pI9pf7yB8CPq"
      },
      "source": [
        "# Actividad 3 \r\n",
        "Uso del archivo base de dato del la Estación climatológica de Comondú, Baja California Sur. Con uso de biblioteca Pandas"
      ]
    },
    {
      "cell_type": "code",
      "metadata": {
        "id": "aTunr2437-l9"
      },
      "source": [
        "#Librerías\r\n",
        "import numpy as np\r\n",
        "import pandas as pd"
      ],
      "execution_count": null,
      "outputs": []
    },
    {
      "cell_type": "code",
      "metadata": {
        "colab": {
          "base_uri": "https://localhost:8080/"
        },
        "id": "ko5_5aGg9HVr",
        "outputId": "f59dd42b-360d-4854-d715-c20540cfd567"
      },
      "source": [
        "# También la función read_csv permite leer archivos públicos en Internet.\r\n",
        "#leer archivo de la estación climatológica. Tomar la dirección URL del archivo en formato 'raw'\r\n",
        "url = \"https://raw.githubusercontent.com/Ferna45/Fisica-Computacional-1/master/Actividad-3/BasedeDatos.txt\"\r\n",
        "\r\n",
        "# Definimos los nombres de las columnas\r\n",
        "# uso en encoding latin1 para que pueda leer los datos\r\n",
        "# El separador de datos es de uno o más espacios, sep='\\s+'\r\n",
        "# Se procesan los datos utilizando Python, engine='python' \r\n",
        "\r\n",
        "df_BCS = pd.read_csv(url, header =2 , skiprows=14, skipfooter=1, sep='\\s+', encoding='latin-1',names=['Fecha', 'Precip', 'Evap', 'TMax', 'TMin'], engine='python')\r\n",
        "print(df)"
      ],
      "execution_count": null,
      "outputs": [
        {
          "output_type": "stream",
          "text": [
            "            Fecha Precip  Evap  TMax  TMin\n",
            "0      01/03/1957      0  Nulo    17    13\n",
            "1      02/03/1957      0  Nulo    23     7\n",
            "2      03/03/1957      0  Nulo    22     8\n",
            "3      04/03/1957      0  Nulo    21     7\n",
            "4      05/03/1957      0  Nulo    28    11\n",
            "...           ...    ...   ...   ...   ...\n",
            "21628  27/12/2017      0   2.4    32    12\n",
            "21629  28/12/2017      0   4.1  31.6  12.5\n",
            "21630  29/12/2017      0   3.6  29.5  12.7\n",
            "21631  30/12/2017      0   2.6    25    12\n",
            "21632  31/12/2017      0  Nulo    25  15.2\n",
            "\n",
            "[21633 rows x 5 columns]\n"
          ],
          "name": "stdout"
        }
      ]
    },
    {
      "cell_type": "markdown",
      "metadata": {
        "id": "ovICsM-gPE2z"
      },
      "source": [
        "**Aquí solo vamos a leer el archivo donde se encuentra la base de datos de la estación de Comondú, Baja California Sur.**"
      ]
    },
    {
      "cell_type": "code",
      "metadata": {
        "id": "QHxZQWGE9etK",
        "colab": {
          "base_uri": "https://localhost:8080/"
        },
        "outputId": "92bc8293-73fa-4e92-a671-0708b8531661"
      },
      "source": [
        "#Imprime el encabezado y final del dataframe para los primeros 10 datos y ultimos 10\r\n",
        "print(df_BCS.head(10))\r\n",
        "print(df_BCS.tail(10))"
      ],
      "execution_count": null,
      "outputs": [
        {
          "output_type": "stream",
          "text": [
            "        Fecha Precip  Evap TMax TMin\n",
            "0  01/03/1957      0  Nulo   17   13\n",
            "1  02/03/1957      0  Nulo   23    7\n",
            "2  03/03/1957      0  Nulo   22    8\n",
            "3  04/03/1957      0  Nulo   21    7\n",
            "4  05/03/1957      0  Nulo   28   11\n",
            "5  06/03/1957      0  Nulo   27   10\n",
            "6  07/03/1957      0  Nulo   31   11\n",
            "7  08/03/1957      0  Nulo   31   10\n",
            "8  09/03/1957      0  Nulo   31   13\n",
            "9  10/03/1957      0  Nulo   21   13\n",
            "            Fecha Precip  Evap  TMax  TMin\n",
            "21623  22/12/2017      0   2.8  27.8    11\n",
            "21624  23/12/2017      0   4.4  31.2    11\n",
            "21625  24/12/2017      0   2.4  23.4  10.2\n",
            "21626  25/12/2017      0   2.7  31.2  12.1\n",
            "21627  26/12/2017      0   3.8  32.4  11.2\n",
            "21628  27/12/2017      0   2.4    32    12\n",
            "21629  28/12/2017      0   4.1  31.6  12.5\n",
            "21630  29/12/2017      0   3.6  29.5  12.7\n",
            "21631  30/12/2017      0   2.6    25    12\n",
            "21632  31/12/2017      0  Nulo    25  15.2\n"
          ],
          "name": "stdout"
        }
      ]
    },
    {
      "cell_type": "code",
      "metadata": {
        "colab": {
          "base_uri": "https://localhost:8080/"
        },
        "id": "Q3MXD5Z-JM1f",
        "outputId": "4a86149c-ef81-43ee-b51e-eaea10c8f301"
      },
      "source": [
        "#¿Qué dimensiones tiene tu dataframe?\r\n",
        "# Investigamos su tamaño con la función shape (renglones, columnas)\r\n",
        "df_BCS.shape"
      ],
      "execution_count": null,
      "outputs": [
        {
          "output_type": "execute_result",
          "data": {
            "text/plain": [
              "(21633, 5)"
            ]
          },
          "metadata": {
            "tags": []
          },
          "execution_count": 29
        }
      ]
    },
    {
      "cell_type": "code",
      "metadata": {
        "colab": {
          "base_uri": "https://localhost:8080/"
        },
        "id": "iUi0iezQJW6U",
        "outputId": "45383c4b-cb12-4ae2-c284-3436e7f3d242"
      },
      "source": [
        "#¿Cómo es el contenido de tu dataframe?\r\n",
        "# Información del dataframe\r\n",
        "df_BCS.info()"
      ],
      "execution_count": null,
      "outputs": [
        {
          "output_type": "stream",
          "text": [
            "<class 'pandas.core.frame.DataFrame'>\n",
            "RangeIndex: 21633 entries, 0 to 21632\n",
            "Data columns (total 5 columns):\n",
            " #   Column  Non-Null Count  Dtype \n",
            "---  ------  --------------  ----- \n",
            " 0   Fecha   21633 non-null  object\n",
            " 1   Precip  21633 non-null  object\n",
            " 2   Evap    21633 non-null  object\n",
            " 3   TMax    21633 non-null  object\n",
            " 4   TMin    21633 non-null  object\n",
            "dtypes: object(5)\n",
            "memory usage: 845.2+ KB\n"
          ],
          "name": "stdout"
        }
      ]
    },
    {
      "cell_type": "code",
      "metadata": {
        "colab": {
          "base_uri": "https://localhost:8080/",
          "height": 204
        },
        "id": "_cAkDkh6JzI7",
        "outputId": "8070e86d-c674-4228-eff8-82a776aa1bdf"
      },
      "source": [
        "# Hacemos una copia de trabajo y preservamos el dataframe original\r\n",
        "df_Comondu = df_BCS.copy()\r\n",
        "df_Comondu.head()"
      ],
      "execution_count": null,
      "outputs": [
        {
          "output_type": "execute_result",
          "data": {
            "text/html": [
              "<div>\n",
              "<style scoped>\n",
              "    .dataframe tbody tr th:only-of-type {\n",
              "        vertical-align: middle;\n",
              "    }\n",
              "\n",
              "    .dataframe tbody tr th {\n",
              "        vertical-align: top;\n",
              "    }\n",
              "\n",
              "    .dataframe thead th {\n",
              "        text-align: right;\n",
              "    }\n",
              "</style>\n",
              "<table border=\"1\" class=\"dataframe\">\n",
              "  <thead>\n",
              "    <tr style=\"text-align: right;\">\n",
              "      <th></th>\n",
              "      <th>Fecha</th>\n",
              "      <th>Precip</th>\n",
              "      <th>Evap</th>\n",
              "      <th>TMax</th>\n",
              "      <th>TMin</th>\n",
              "    </tr>\n",
              "  </thead>\n",
              "  <tbody>\n",
              "    <tr>\n",
              "      <th>0</th>\n",
              "      <td>01/03/1957</td>\n",
              "      <td>0</td>\n",
              "      <td>Nulo</td>\n",
              "      <td>17</td>\n",
              "      <td>13</td>\n",
              "    </tr>\n",
              "    <tr>\n",
              "      <th>1</th>\n",
              "      <td>02/03/1957</td>\n",
              "      <td>0</td>\n",
              "      <td>Nulo</td>\n",
              "      <td>23</td>\n",
              "      <td>7</td>\n",
              "    </tr>\n",
              "    <tr>\n",
              "      <th>2</th>\n",
              "      <td>03/03/1957</td>\n",
              "      <td>0</td>\n",
              "      <td>Nulo</td>\n",
              "      <td>22</td>\n",
              "      <td>8</td>\n",
              "    </tr>\n",
              "    <tr>\n",
              "      <th>3</th>\n",
              "      <td>04/03/1957</td>\n",
              "      <td>0</td>\n",
              "      <td>Nulo</td>\n",
              "      <td>21</td>\n",
              "      <td>7</td>\n",
              "    </tr>\n",
              "    <tr>\n",
              "      <th>4</th>\n",
              "      <td>05/03/1957</td>\n",
              "      <td>0</td>\n",
              "      <td>Nulo</td>\n",
              "      <td>28</td>\n",
              "      <td>11</td>\n",
              "    </tr>\n",
              "  </tbody>\n",
              "</table>\n",
              "</div>"
            ],
            "text/plain": [
              "        Fecha Precip  Evap TMax TMin\n",
              "0  01/03/1957      0  Nulo   17   13\n",
              "1  02/03/1957      0  Nulo   23    7\n",
              "2  03/03/1957      0  Nulo   22    8\n",
              "3  04/03/1957      0  Nulo   21    7\n",
              "4  05/03/1957      0  Nulo   28   11"
            ]
          },
          "metadata": {
            "tags": []
          },
          "execution_count": 31
        }
      ]
    },
    {
      "cell_type": "code",
      "metadata": {
        "colab": {
          "base_uri": "https://localhost:8080/",
          "height": 204
        },
        "id": "AfNXUzQ9MC7n",
        "outputId": "9f1595d4-be96-4ac9-c0c2-abb50944954a"
      },
      "source": [
        "# Reemplazamos los textos 'Nulo' por espacio en blanco ''\r\n",
        "str_Nulo = 'Nulo'\r\n",
        "df_Final = df_Comondu.replace(to_replace=str_Nulo, value='', regex=True)\r\n",
        "df_Final.head()"
      ],
      "execution_count": null,
      "outputs": [
        {
          "output_type": "execute_result",
          "data": {
            "text/html": [
              "<div>\n",
              "<style scoped>\n",
              "    .dataframe tbody tr th:only-of-type {\n",
              "        vertical-align: middle;\n",
              "    }\n",
              "\n",
              "    .dataframe tbody tr th {\n",
              "        vertical-align: top;\n",
              "    }\n",
              "\n",
              "    .dataframe thead th {\n",
              "        text-align: right;\n",
              "    }\n",
              "</style>\n",
              "<table border=\"1\" class=\"dataframe\">\n",
              "  <thead>\n",
              "    <tr style=\"text-align: right;\">\n",
              "      <th></th>\n",
              "      <th>Fecha</th>\n",
              "      <th>Precip</th>\n",
              "      <th>Evap</th>\n",
              "      <th>TMax</th>\n",
              "      <th>TMin</th>\n",
              "    </tr>\n",
              "  </thead>\n",
              "  <tbody>\n",
              "    <tr>\n",
              "      <th>0</th>\n",
              "      <td>01/03/1957</td>\n",
              "      <td>0</td>\n",
              "      <td></td>\n",
              "      <td>17</td>\n",
              "      <td>13</td>\n",
              "    </tr>\n",
              "    <tr>\n",
              "      <th>1</th>\n",
              "      <td>02/03/1957</td>\n",
              "      <td>0</td>\n",
              "      <td></td>\n",
              "      <td>23</td>\n",
              "      <td>7</td>\n",
              "    </tr>\n",
              "    <tr>\n",
              "      <th>2</th>\n",
              "      <td>03/03/1957</td>\n",
              "      <td>0</td>\n",
              "      <td></td>\n",
              "      <td>22</td>\n",
              "      <td>8</td>\n",
              "    </tr>\n",
              "    <tr>\n",
              "      <th>3</th>\n",
              "      <td>04/03/1957</td>\n",
              "      <td>0</td>\n",
              "      <td></td>\n",
              "      <td>21</td>\n",
              "      <td>7</td>\n",
              "    </tr>\n",
              "    <tr>\n",
              "      <th>4</th>\n",
              "      <td>05/03/1957</td>\n",
              "      <td>0</td>\n",
              "      <td></td>\n",
              "      <td>28</td>\n",
              "      <td>11</td>\n",
              "    </tr>\n",
              "  </tbody>\n",
              "</table>\n",
              "</div>"
            ],
            "text/plain": [
              "        Fecha Precip Evap TMax TMin\n",
              "0  01/03/1957      0        17   13\n",
              "1  02/03/1957      0        23    7\n",
              "2  03/03/1957      0        22    8\n",
              "3  04/03/1957      0        21    7\n",
              "4  05/03/1957      0        28   11"
            ]
          },
          "metadata": {
            "tags": []
          },
          "execution_count": 34
        }
      ]
    },
    {
      "cell_type": "code",
      "metadata": {
        "colab": {
          "base_uri": "https://localhost:8080/"
        },
        "id": "Gv-SmYhgMUaO",
        "outputId": "266400dc-1f79-470b-9b1f-2a4c62148607"
      },
      "source": [
        "# Imprimimos la información actualizada del dataframe\r\n",
        "df_Final.info()\r\n",
        "print(df_Final.head())"
      ],
      "execution_count": null,
      "outputs": [
        {
          "output_type": "stream",
          "text": [
            "<class 'pandas.core.frame.DataFrame'>\n",
            "RangeIndex: 21633 entries, 0 to 21632\n",
            "Data columns (total 5 columns):\n",
            " #   Column  Non-Null Count  Dtype \n",
            "---  ------  --------------  ----- \n",
            " 0   Fecha   21633 non-null  object\n",
            " 1   Precip  21633 non-null  object\n",
            " 2   Evap    21633 non-null  object\n",
            " 3   TMax    21633 non-null  object\n",
            " 4   TMin    21633 non-null  object\n",
            "dtypes: object(5)\n",
            "memory usage: 845.2+ KB\n",
            "        Fecha Precip Evap TMax TMin\n",
            "0  01/03/1957      0        17   13\n",
            "1  02/03/1957      0        23    7\n",
            "2  03/03/1957      0        22    8\n",
            "3  04/03/1957      0        21    7\n",
            "4  05/03/1957      0        28   11\n"
          ],
          "name": "stdout"
        }
      ]
    },
    {
      "cell_type": "markdown",
      "metadata": {
        "id": "_Mg1-W031T9p"
      },
      "source": [
        "# Convirtiendo objetos a números flotantes\r\n",
        "Separamos los datos que son reales o flotantes de la columnas de Precipitación, Evaporación, Temperatura Mínima y Temperatura Máxima."
      ]
    },
    {
      "cell_type": "code",
      "metadata": {
        "colab": {
          "base_uri": "https://localhost:8080/"
        },
        "id": "wD-qrIR5MYy9",
        "outputId": "1a0fb922-2ac9-488c-a364-6f37c1b78f7c"
      },
      "source": [
        "#Deseamos convertir el valor de las variables ambientales a numeros flotantes\r\n",
        "cols_list = ['Precip', 'Evap', 'TMax', 'TMin']\r\n",
        "for cols in cols_list:\r\n",
        "  df_Final[cols] = pd.to_numeric(df_Final[cols], errors='coerce')\r\n",
        "\r\n",
        "df_Final.info()"
      ],
      "execution_count": null,
      "outputs": [
        {
          "output_type": "stream",
          "text": [
            "<class 'pandas.core.frame.DataFrame'>\n",
            "RangeIndex: 21633 entries, 0 to 21632\n",
            "Data columns (total 5 columns):\n",
            " #   Column  Non-Null Count  Dtype  \n",
            "---  ------  --------------  -----  \n",
            " 0   Fecha   21633 non-null  object \n",
            " 1   Precip  21582 non-null  float64\n",
            " 2   Evap    19448 non-null  float64\n",
            " 3   TMax    21576 non-null  float64\n",
            " 4   TMin    21588 non-null  float64\n",
            "dtypes: float64(4), object(1)\n",
            "memory usage: 845.2+ KB\n"
          ],
          "name": "stdout"
        }
      ]
    },
    {
      "cell_type": "code",
      "metadata": {
        "colab": {
          "base_uri": "https://localhost:8080/"
        },
        "id": "uqlM77SSMm0h",
        "outputId": "9a383ed1-a3b7-4815-bd6a-099277cd2ffb"
      },
      "source": [
        "# De la instrucción anterior, vemos que hay valores faltantes.\r\n",
        "#Sumamos los valores nulos. \r\n",
        "df_Final.isnull().sum()"
      ],
      "execution_count": null,
      "outputs": [
        {
          "output_type": "execute_result",
          "data": {
            "text/plain": [
              "Fecha        0\n",
              "Precip      51\n",
              "Evap      2185\n",
              "TMax        57\n",
              "TMin        45\n",
              "dtype: int64"
            ]
          },
          "metadata": {
            "tags": []
          },
          "execution_count": 37
        }
      ]
    },
    {
      "cell_type": "code",
      "metadata": {
        "colab": {
          "base_uri": "https://localhost:8080/"
        },
        "id": "RiSiIVT3Muvt",
        "outputId": "87050de3-c9e4-4355-8595-343320bc0b80"
      },
      "source": [
        "print(df_Final.head(5))\r\n",
        "print(df_Final.head(5))"
      ],
      "execution_count": null,
      "outputs": [
        {
          "output_type": "stream",
          "text": [
            "        Fecha  Precip  Evap  TMax  TMin\n",
            "0  01/03/1957     0.0   NaN  17.0  13.0\n",
            "1  02/03/1957     0.0   NaN  23.0   7.0\n",
            "2  03/03/1957     0.0   NaN  22.0   8.0\n",
            "3  04/03/1957     0.0   NaN  21.0   7.0\n",
            "4  05/03/1957     0.0   NaN  28.0  11.0\n",
            "        Fecha  Precip  Evap  TMax  TMin\n",
            "0  01/03/1957     0.0   NaN  17.0  13.0\n",
            "1  02/03/1957     0.0   NaN  23.0   7.0\n",
            "2  03/03/1957     0.0   NaN  22.0   8.0\n",
            "3  04/03/1957     0.0   NaN  21.0   7.0\n",
            "4  05/03/1957     0.0   NaN  28.0  11.0\n"
          ],
          "name": "stdout"
        }
      ]
    },
    {
      "cell_type": "code",
      "metadata": {
        "colab": {
          "base_uri": "https://localhost:8080/",
          "height": 297
        },
        "id": "0zL703nbMyG4",
        "outputId": "8029005d-45d3-42d1-dcdb-4890a22b7ace"
      },
      "source": [
        "#Un análisis estadístico breve de las variables numéricas redondeado a 2 cifras significativas\r\n",
        "df_Final.describe().round(2)"
      ],
      "execution_count": null,
      "outputs": [
        {
          "output_type": "execute_result",
          "data": {
            "text/html": [
              "<div>\n",
              "<style scoped>\n",
              "    .dataframe tbody tr th:only-of-type {\n",
              "        vertical-align: middle;\n",
              "    }\n",
              "\n",
              "    .dataframe tbody tr th {\n",
              "        vertical-align: top;\n",
              "    }\n",
              "\n",
              "    .dataframe thead th {\n",
              "        text-align: right;\n",
              "    }\n",
              "</style>\n",
              "<table border=\"1\" class=\"dataframe\">\n",
              "  <thead>\n",
              "    <tr style=\"text-align: right;\">\n",
              "      <th></th>\n",
              "      <th>Precip</th>\n",
              "      <th>Evap</th>\n",
              "      <th>TMax</th>\n",
              "      <th>TMin</th>\n",
              "    </tr>\n",
              "  </thead>\n",
              "  <tbody>\n",
              "    <tr>\n",
              "      <th>count</th>\n",
              "      <td>21582.00</td>\n",
              "      <td>19448.00</td>\n",
              "      <td>21576.00</td>\n",
              "      <td>21588.00</td>\n",
              "    </tr>\n",
              "    <tr>\n",
              "      <th>mean</th>\n",
              "      <td>0.44</td>\n",
              "      <td>5.70</td>\n",
              "      <td>31.52</td>\n",
              "      <td>13.35</td>\n",
              "    </tr>\n",
              "    <tr>\n",
              "      <th>std</th>\n",
              "      <td>3.99</td>\n",
              "      <td>2.64</td>\n",
              "      <td>5.22</td>\n",
              "      <td>5.60</td>\n",
              "    </tr>\n",
              "    <tr>\n",
              "      <th>min</th>\n",
              "      <td>0.00</td>\n",
              "      <td>0.10</td>\n",
              "      <td>13.00</td>\n",
              "      <td>-3.00</td>\n",
              "    </tr>\n",
              "    <tr>\n",
              "      <th>25%</th>\n",
              "      <td>0.00</td>\n",
              "      <td>3.80</td>\n",
              "      <td>27.87</td>\n",
              "      <td>9.00</td>\n",
              "    </tr>\n",
              "    <tr>\n",
              "      <th>50%</th>\n",
              "      <td>0.00</td>\n",
              "      <td>5.70</td>\n",
              "      <td>31.60</td>\n",
              "      <td>12.80</td>\n",
              "    </tr>\n",
              "    <tr>\n",
              "      <th>75%</th>\n",
              "      <td>0.00</td>\n",
              "      <td>7.50</td>\n",
              "      <td>35.80</td>\n",
              "      <td>18.00</td>\n",
              "    </tr>\n",
              "    <tr>\n",
              "      <th>max</th>\n",
              "      <td>184.10</td>\n",
              "      <td>17.60</td>\n",
              "      <td>47.00</td>\n",
              "      <td>28.40</td>\n",
              "    </tr>\n",
              "  </tbody>\n",
              "</table>\n",
              "</div>"
            ],
            "text/plain": [
              "         Precip      Evap      TMax      TMin\n",
              "count  21582.00  19448.00  21576.00  21588.00\n",
              "mean       0.44      5.70     31.52     13.35\n",
              "std        3.99      2.64      5.22      5.60\n",
              "min        0.00      0.10     13.00     -3.00\n",
              "25%        0.00      3.80     27.87      9.00\n",
              "50%        0.00      5.70     31.60     12.80\n",
              "75%        0.00      7.50     35.80     18.00\n",
              "max      184.10     17.60     47.00     28.40"
            ]
          },
          "metadata": {
            "tags": []
          },
          "execution_count": 39
        }
      ]
    },
    {
      "cell_type": "markdown",
      "metadata": {
        "id": "ZNyKOpZYL8oD"
      },
      "source": [
        "# Usaremos la variable Fecha\r\n",
        "La variable tipo fecha, contiene mucha información condensada (Año, Mes y Día). Se busca acceder a esa información para poder usarla más adelante.\r\n"
      ]
    },
    {
      "cell_type": "markdown",
      "metadata": {
        "id": "OOUg104nV8VL"
      },
      "source": [
        "Usando una copia nueva del data frame anterior df_work1 esto para no modificar algún cambio y tener separado  "
      ]
    },
    {
      "cell_type": "code",
      "metadata": {
        "id": "5SC9uI3pM49G",
        "colab": {
          "base_uri": "https://localhost:8080/"
        },
        "outputId": "9b7bc8c8-46d3-4b40-ba83-c7957fe5422f"
      },
      "source": [
        "df_2= df_Final.copy()\r\n",
        "df_2['Fecha'].head()"
      ],
      "execution_count": null,
      "outputs": [
        {
          "output_type": "execute_result",
          "data": {
            "text/plain": [
              "0    01/03/1957\n",
              "1    02/03/1957\n",
              "2    03/03/1957\n",
              "3    04/03/1957\n",
              "4    05/03/1957\n",
              "Name: Fecha, dtype: object"
            ]
          },
          "metadata": {
            "tags": []
          },
          "execution_count": 40
        }
      ]
    },
    {
      "cell_type": "markdown",
      "metadata": {
        "id": "n6dpxGzayEtO"
      },
      "source": [
        "# Datetime"
      ]
    },
    {
      "cell_type": "code",
      "metadata": {
        "colab": {
          "base_uri": "https://localhost:8080/"
        },
        "id": "muar8ZUYMwpD",
        "outputId": "f174dc14-b461-4ade-9355-9653164dfaec"
      },
      "source": [
        "#Pandas tiene la función pd.to_datetime que convierte una cadena en tipo datetime64[ns]\r\n",
        "# Intentamos a ver si Python reconoce el formato en nuestro caso. \r\n",
        "# Agregamos la opción de que el primer dato es el día (dayfirst=True)\r\n",
        "\r\n",
        "df_2['Fecha']=pd.to_datetime(df_2['Fecha'], dayfirst=True).copy()\r\n",
        "print(df_Final.head())"
      ],
      "execution_count": null,
      "outputs": [
        {
          "output_type": "stream",
          "text": [
            "        Fecha  Precip  Evap  TMax  TMin\n",
            "0  01/03/1957     0.0   NaN  17.0  13.0\n",
            "1  02/03/1957     0.0   NaN  23.0   7.0\n",
            "2  03/03/1957     0.0   NaN  22.0   8.0\n",
            "3  04/03/1957     0.0   NaN  21.0   7.0\n",
            "4  05/03/1957     0.0   NaN  28.0  11.0\n"
          ],
          "name": "stdout"
        }
      ]
    },
    {
      "cell_type": "code",
      "metadata": {
        "colab": {
          "base_uri": "https://localhost:8080/"
        },
        "id": "V4MuX_8jNlbV",
        "outputId": "0a5a72eb-f43c-400f-b9ca-b349dfcabf0a"
      },
      "source": [
        "#Verificamos que cada variable (columna), sea del tipo que esperamos.\r\n",
        "# Observamos que la variable Fecha es de tipo 'datetime64[ns]'\r\n",
        "df_2.dtypes"
      ],
      "execution_count": null,
      "outputs": [
        {
          "output_type": "execute_result",
          "data": {
            "text/plain": [
              "Fecha     datetime64[ns]\n",
              "Precip           float64\n",
              "Evap             float64\n",
              "TMax             float64\n",
              "TMin             float64\n",
              "dtype: object"
            ]
          },
          "metadata": {
            "tags": []
          },
          "execution_count": 18
        }
      ]
    },
    {
      "cell_type": "code",
      "metadata": {
        "colab": {
          "base_uri": "https://localhost:8080/"
        },
        "id": "1xiS0kcNNpjS",
        "outputId": "641dd5ff-9188-44e3-de0d-00adf2228e44"
      },
      "source": [
        "# Buscamos ahora añadir dos columnas adicionales: df['Año'], df['Mes']\r\n",
        "# Usaremos la función .dt.year y .dt.month para extraer el Año y Mes de la Fecha\r\n",
        "df_2['Año'] = df_2['Fecha'].dt.year\r\n",
        "df_2['Mes'] = df_2['Fecha'].dt.month\r\n",
        "\r\n",
        "# Verificamos que se hayan creado de forma correcta\r\n",
        "# Tendremos ahora dos columnas adicionales que podemos utilizar para filtrar información.\r\n",
        "\r\n",
        "print(df_2.head(5))\r\n",
        "print(df_2.tail(5))"
      ],
      "execution_count": null,
      "outputs": [
        {
          "output_type": "stream",
          "text": [
            "       Fecha  Precip  Evap  TMax  TMin   Año  Mes\n",
            "0 1957-03-01     0.0   NaN  17.0  13.0  1957    3\n",
            "1 1957-03-02     0.0   NaN  23.0   7.0  1957    3\n",
            "2 1957-03-03     0.0   NaN  22.0   8.0  1957    3\n",
            "3 1957-03-04     0.0   NaN  21.0   7.0  1957    3\n",
            "4 1957-03-05     0.0   NaN  28.0  11.0  1957    3\n",
            "           Fecha  Precip  Evap  TMax  TMin   Año  Mes\n",
            "21628 2017-12-27     0.0   2.4  32.0  12.0  2017   12\n",
            "21629 2017-12-28     0.0   4.1  31.6  12.5  2017   12\n",
            "21630 2017-12-29     0.0   3.6  29.5  12.7  2017   12\n",
            "21631 2017-12-30     0.0   2.6  25.0  12.0  2017   12\n",
            "21632 2017-12-31     0.0   NaN  25.0  15.2  2017   12\n"
          ],
          "name": "stdout"
        }
      ]
    },
    {
      "cell_type": "code",
      "metadata": {
        "colab": {
          "base_uri": "https://localhost:8080/"
        },
        "id": "pGmMHuTfUAzM",
        "outputId": "133d1a55-a09a-497f-86e6-f1ce55d134a2"
      },
      "source": [
        "# Verificamos que Año y Mes son variables enteras.\r\n",
        "# Hasta aquí llegaremos esta semana.\r\n",
        "\r\n",
        "df_2.info()"
      ],
      "execution_count": null,
      "outputs": [
        {
          "output_type": "stream",
          "text": [
            "<class 'pandas.core.frame.DataFrame'>\n",
            "RangeIndex: 21633 entries, 0 to 21632\n",
            "Data columns (total 7 columns):\n",
            " #   Column  Non-Null Count  Dtype         \n",
            "---  ------  --------------  -----         \n",
            " 0   Fecha   21633 non-null  datetime64[ns]\n",
            " 1   Precip  21582 non-null  float64       \n",
            " 2   Evap    19448 non-null  float64       \n",
            " 3   TMax    21576 non-null  float64       \n",
            " 4   TMin    21588 non-null  float64       \n",
            " 5   Año     21633 non-null  int64         \n",
            " 6   Mes     21633 non-null  int64         \n",
            "dtypes: datetime64[ns](1), float64(4), int64(2)\n",
            "memory usage: 1.2 MB\n"
          ],
          "name": "stdout"
        }
      ]
    },
    {
      "cell_type": "code",
      "metadata": {
        "id": "vp7voKMkUJLf"
      },
      "source": [
        ""
      ],
      "execution_count": null,
      "outputs": []
    }
  ]
}