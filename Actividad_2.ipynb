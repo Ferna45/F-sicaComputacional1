{
  "nbformat": 4,
  "nbformat_minor": 0,
  "metadata": {
    "colab": {
      "name": "Actividad_2.ipynb",
      "provenance": [],
      "authorship_tag": "ABX9TyOiubI84og82Ptb1/ZNEUbS",
      "include_colab_link": true
    },
    "kernelspec": {
      "name": "python3",
      "display_name": "Python 3"
    }
  },
  "cells": [
    {
      "cell_type": "markdown",
      "metadata": {
        "id": "view-in-github",
        "colab_type": "text"
      },
      "source": [
        "<a href=\"https://colab.research.google.com/github/Ferna45/Fisica-Computacional-1/blob/master/Actividad_2.ipynb\" target=\"_parent\"><img src=\"https://colab.research.google.com/assets/colab-badge.svg\" alt=\"Open In Colab\"/></a>"
      ]
    },
    {
      "cell_type": "markdown",
      "metadata": {
        "id": "EY7k25ZKPWdB"
      },
      "source": [
        "## Primera actividad en programación Python\r\n",
        "Ejercicio 1.- Es acerca del área de un rectángulo, será un programa interactivo donde el usuario proporcionará los datos de largo y altura. "
      ]
    },
    {
      "cell_type": "code",
      "metadata": {
        "id": "cNnFv6Z-S72Y"
      },
      "source": [
        "#El uso de la biblioteca, para poder usar el número pi\r\n",
        "import numpy as np "
      ],
      "execution_count": 3,
      "outputs": []
    },
    {
      "cell_type": "code",
      "metadata": {
        "colab": {
          "base_uri": "https://localhost:8080/"
        },
        "id": "RP587o3BQY21",
        "outputId": "66e4bbc8-8c99-47ce-ce43-4337ceb319fc"
      },
      "source": [
        "# Se utiliza el símbolo # para hacer comentarios.\r\n",
        "# Se define una función de 2 variables para calcular el área.  \r\n",
        "def area(x, y):\r\n",
        "    return x*y\r\n",
        "\r\n",
        "print(\"Proporciona el largo y altura del rectángulo: \", end=\"\")\r\n",
        "l = float(input())\r\n",
        "w = float(input())\r\n",
        "a = area(l, w)\r\n",
        "# Imprime el valor del área en formato libre.\r\n",
        "#print(\"\\nArea = \", a)\r\n",
        "# Imprime el valor del área con 2 decimales. \r\n",
        "print(\"\\nArea = {:.2f}\".format(a))"
      ],
      "execution_count": 2,
      "outputs": [
        {
          "output_type": "stream",
          "text": [
            "Proporciona el largo y altura del rectángulo: 10\n",
            "60\n",
            "\n",
            "Area = 600.00\n"
          ],
          "name": "stdout"
        }
      ]
    },
    {
      "cell_type": "markdown",
      "metadata": {
        "id": "VYHNDv2CTPdc"
      },
      "source": [
        "# Área de un círculo\r\n",
        "En este programa vamos a calcular el área de un cículo con ayuda de la fórmula $$A=\\pi*r^2$$ donde igualmente que el anterior será interactivo por lo tanto el usuario proporcionará solamente el radio del círculo. Hay que recordar que r es el radio de nuestro círculo la mitad del diametro de este. "
      ]
    },
    {
      "cell_type": "code",
      "metadata": {
        "colab": {
          "base_uri": "https://localhost:8080/"
        },
        "id": "bl92hjTCWP4c",
        "outputId": "03e39a3e-60e7-4b06-fd4d-8918c82a96fd"
      },
      "source": [
        "#Se define una función de una variable que será el radio del círculo para calcular su área\r\n",
        "def area(r):\r\n",
        "    return np.pi*(r**2)\r\n",
        "\r\n",
        "#Pedir al usuario que proporcione el radio \r\n",
        "print(\"Proporciona el radio del Círculo: \", end=\"\")\r\n",
        "r = float(input())\r\n",
        "a = area(r)\r\n",
        "print(\"\\nArea = {:.2f}\".format(a))"
      ],
      "execution_count": 16,
      "outputs": [
        {
          "output_type": "stream",
          "text": [
            "Proporciona el radio del Círculo: 5\n",
            "\n",
            "Area = 78.54\n"
          ],
          "name": "stdout"
        }
      ]
    },
    {
      "cell_type": "markdown",
      "metadata": {
        "id": "s59LK1zreNBx"
      },
      "source": [
        "# Área de una elipse\r\n",
        "Vamos a calcular el area de una elipse con la fórmula de $$ Área = \\pi*a*b $$ Donde **a** es el semieje mayor y **b** es el semieje menor, en el caso que los semiejes sean iguales (**r = a = b**) su fórmula es la misma que el área de un círculo."
      ]
    },
    {
      "cell_type": "code",
      "metadata": {
        "colab": {
          "base_uri": "https://localhost:8080/"
        },
        "id": "t6xHFrytgbxj",
        "outputId": "d39d949d-a703-4196-b46f-a349b1c5d08a"
      },
      "source": [
        "#Definir una función de dos variables para los dos semiejes esto para calcular el área de la elipse\r\n",
        "def area(a,b):\r\n",
        "    return np.pi*a*b\r\n",
        "\r\n",
        "#Pedir los datos de los semiejes\r\n",
        "print(\"Proporciona primero el semieje MAYOR después el semieje MENOR: \", end=\"\")\r\n",
        "a = float(input())\r\n",
        "b = float(input())\r\n",
        "a = area(a,b)\r\n",
        "#Mostrará el resultado\r\n",
        "print(\"\\nArea = {:.2f}\".format(a))"
      ],
      "execution_count": 17,
      "outputs": [
        {
          "output_type": "stream",
          "text": [
            "Proporciona primero el semieje MAYOR después el semieje MENOR: 3.00\n",
            "2.00\n",
            "\n",
            "Area = 18.85\n"
          ],
          "name": "stdout"
        }
      ]
    },
    {
      "cell_type": "markdown",
      "metadata": {
        "id": "XZpj5p9ohjcp"
      },
      "source": [
        "# Volumen de una esfera\r\n",
        "Programa para dedudir el volumen de una esfera mediante la fórmula $$ V = \\frac{4}{3}*\\pi*R^3$$ donde al igual que el círculo **R** es el radio de la esfera. "
      ]
    },
    {
      "cell_type": "code",
      "metadata": {
        "colab": {
          "base_uri": "https://localhost:8080/"
        },
        "id": "cA0RuI0XjDVh",
        "outputId": "0d34634c-6bb1-48c3-c318-cc4a2795e1bf"
      },
      "source": [
        "#Establecer función de una variable para obtener el volumen con el radio de la esfera.\r\n",
        "def Volumen(R):\r\n",
        "    return np.pi*(R**3)*(4/3)\r\n",
        "\r\n",
        "#Pedir al usuario que proporcione el radio \r\n",
        "print(\"Proporciona el radio de la esfera: \", end=\"\")\r\n",
        "R = float(input())\r\n",
        "a = Volumen(R)\r\n",
        "\r\n",
        "#Presentar resultado\r\n",
        "print(\"\\nVolumen = {:.2f}\".format(a))"
      ],
      "execution_count": 25,
      "outputs": [
        {
          "output_type": "stream",
          "text": [
            "Proporciona el radio de la esfera: 8.00\n",
            "\n",
            "Volumen = 2144.66\n"
          ],
          "name": "stdout"
        }
      ]
    },
    {
      "cell_type": "markdown",
      "metadata": {
        "id": "syER4SZslY0o"
      },
      "source": [
        "# Volumen de un cilíndro circular\r\n"
      ]
    }
  ]
}